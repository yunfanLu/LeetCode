{
 "cells": [
  {
   "cell_type": "markdown",
   "metadata": {
    "collapsed": true
   },
   "source": [
    ""
   ]
  },
  {
   "cell_type": "markdown",
   "metadata": {},
   "source": [
    ""
   ]
  },
  {
   "cell_type": "code",
   "execution_count": 3,
   "metadata": {},
   "outputs": [
    {
     "name": "stdout",
     "output_type": "stream",
     "text": [
      "2\n3\n"
     ]
    }
   ],
   "source": [
    "class Solution:\n",
    "    def deleteAndEarn(self, nums):\n",
    "        \"\"\"\n",
    "        :type nums: List[int]\n",
    "        :rtype: int\n",
    "        \"\"\"\n",
    "        max_length = 20001\n",
    "        a = [0 for i in range(max_length)]\n",
    "        for num in nums:\n",
    "            a[num] += 1\n",
    "        dp = [[0 for i in range(2)] for j in range(max_length)]\n",
    "        dp[0][1] = a[0]\n",
    "        for i in range(1, max_length):\n",
    "            dp[i][0] = max(dp[i - 1])\n",
    "            dp[i][1] = max(dp[i - 2]) + i * a[i]\n",
    "        return max(dp[max_length - 1])\n",
    "\n",
    "s = Solution()\n",
    "print(s.deleteAndEarn([3, 4, 2]))\n",
    "print(s.deleteAndEarn([2, 2, 3, 3, 3, 4]))"
   ]
  },
  {
   "cell_type": "code",
   "execution_count": null,
   "metadata": {},
   "outputs": [],
   "source": [
    ""
   ]
  }
 ],
 "metadata": {
  "kernelspec": {
   "display_name": "Python 2",
   "language": "python",
   "name": "python2"
  },
  "language_info": {
   "codemirror_mode": {
    "name": "ipython",
    "version": 2.0
   },
   "file_extension": ".py",
   "mimetype": "text/x-python",
   "name": "python",
   "nbconvert_exporter": "python",
   "pygments_lexer": "ipython2",
   "version": "2.7.6"
  }
 },
 "nbformat": 4,
 "nbformat_minor": 0
}