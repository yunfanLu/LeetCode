{
 "cells": [
  {
   "cell_type": "markdown",
   "metadata": {
    "collapsed": true
   },
   "source": [
    "Given two integer arrays A and B, return the maximum length of an subarray that appears in both arrays.\n",
    "\n",
    "Example 1:\n",
    "Input:\n",
    "A: [1,2,3,2,1]\n",
    "B: [3,2,1,4,7]\n",
    "Output: 3\n",
    "Explanation: \n",
    "The repeated subarray with maximum length is [3, 2, 1].\n",
    "Note:\n",
    "1 <= len(A), len(B) <= 1000\n",
    "0 <= A[i], B[i] < 100"
   ]
  },
  {
   "cell_type": "code",
   "execution_count": null,
   "metadata": {},
   "outputs": [],
   "source": [
    "class Solution:\n",
    "    def findLength(self, A, B):\n",
    "        \"\"\"\n",
    "        :type A: List[int]\n",
    "        :type B: List[int]\n",
    "        :rtype: int\n",
    "        \"\"\"\n",
    "        lenA = len(A)\n",
    "        lenB = len(B)\n",
    "        dp = [[0 for i in range(lenB)] for j in range(lenA)]\n",
    "        for i in range(lenA):\n",
    "            for j in range(lenB):\n",
    "                if A[i] == B[j]: dp[i][j] = 1"
   ]
  }
 ],
 "metadata": {
  "kernelspec": {
   "display_name": "Python 2",
   "language": "python",
   "name": "python2"
  },
  "language_info": {
   "codemirror_mode": {
    "name": "ipython",
    "version": 2.0
   },
   "file_extension": ".py",
   "mimetype": "text/x-python",
   "name": "python",
   "nbconvert_exporter": "python",
   "pygments_lexer": "ipython2",
   "version": "2.7.6"
  }
 },
 "nbformat": 4,
 "nbformat_minor": 0
}